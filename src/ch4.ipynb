{
 "cells": [
  {
   "cell_type": "code",
   "execution_count": 1,
   "id": "3ad34af6-923e-41ff-8e02-68a3ae342119",
   "metadata": {},
   "outputs": [],
   "source": [
    "import MeCab"
   ]
  },
  {
   "cell_type": "code",
   "execution_count": 2,
   "id": "30c53c91-4a44-4bf3-90b6-b6fa064f6e54",
   "metadata": {},
   "outputs": [],
   "source": [
    "wakati = MeCab.Tagger(\"-Owakati\")"
   ]
  },
  {
   "cell_type": "code",
   "execution_count": 3,
   "id": "f3e5cff6-1293-411c-9f07-39b788aa9c2b",
   "metadata": {},
   "outputs": [
    {
     "data": {
      "text/plain": [
       "['友達', 'と', '国立', '新', '美術館', 'に', '行っ', 'た']"
      ]
     },
     "execution_count": 3,
     "metadata": {},
     "output_type": "execute_result"
    }
   ],
   "source": [
    "wakati.parse(\"友達と国立新美術館に行った\").split()"
   ]
  },
  {
   "cell_type": "code",
   "execution_count": 4,
   "id": "948a8c43-f30d-44f2-9909-b7b638cbe702",
   "metadata": {},
   "outputs": [],
   "source": [
    "wakati = MeCab.Tagger(\"-Ochasen\")"
   ]
  },
  {
   "cell_type": "code",
   "execution_count": 5,
   "id": "d69a2e69-e65e-48e0-8022-07f4a8433cef",
   "metadata": {},
   "outputs": [
    {
     "data": {
      "text/plain": [
       "['友達',\n",
       " 'トモダチ',\n",
       " '友達',\n",
       " '名詞-一般',\n",
       " 'と',\n",
       " 'ト',\n",
       " 'と',\n",
       " '助詞-並立助詞',\n",
       " '国立',\n",
       " 'コクリツ',\n",
       " '国立',\n",
       " '名詞-一般',\n",
       " '新',\n",
       " 'シン',\n",
       " '新',\n",
       " '接頭詞-名詞接続',\n",
       " '美術館',\n",
       " 'ビジュツカン',\n",
       " '美術館',\n",
       " '名詞-一般',\n",
       " 'に',\n",
       " 'ニ',\n",
       " 'に',\n",
       " '助詞-格助詞-一般',\n",
       " '行っ',\n",
       " 'イッ',\n",
       " '行く',\n",
       " '動詞-自立',\n",
       " '五段・カ行促音便',\n",
       " '連用タ接続',\n",
       " 'た',\n",
       " 'タ',\n",
       " 'た',\n",
       " '助動詞',\n",
       " '特殊・タ',\n",
       " '基本形',\n",
       " 'EOS']"
      ]
     },
     "execution_count": 5,
     "metadata": {},
     "output_type": "execute_result"
    }
   ],
   "source": [
    "wakati.parse(\"友達と国立新美術館に行った\").split()"
   ]
  },
  {
   "cell_type": "code",
   "execution_count": 6,
   "id": "088759d3-d6dd-49c9-bae5-a7a24c48a127",
   "metadata": {},
   "outputs": [],
   "source": [
    "tagger = MeCab.Tagger()"
   ]
  },
  {
   "cell_type": "code",
   "execution_count": 7,
   "id": "3941904d-4788-423d-a147-8a27029fc7ae",
   "metadata": {},
   "outputs": [
    {
     "name": "stdout",
     "output_type": "stream",
     "text": [
      "友達\t名詞,一般,*,*,*,*,友達,トモダチ,トモダチ\n",
      "と\t助詞,並立助詞,*,*,*,*,と,ト,ト\n",
      "国立\t名詞,一般,*,*,*,*,国立,コクリツ,コクリツ\n",
      "新\t接頭詞,名詞接続,*,*,*,*,新,シン,シン\n",
      "美術館\t名詞,一般,*,*,*,*,美術館,ビジュツカン,ビジュツカン\n",
      "に\t助詞,格助詞,一般,*,*,*,に,ニ,ニ\n",
      "行っ\t動詞,自立,*,*,五段・カ行促音便,連用タ接続,行く,イッ,イッ\n",
      "た\t助動詞,*,*,*,特殊・タ,基本形,た,タ,タ\n",
      "EOS\n",
      "\n"
     ]
    }
   ],
   "source": [
    "print(tagger.parse(\"友達と国立新美術館に行った\"))"
   ]
  },
  {
   "cell_type": "markdown",
   "id": "cd57c604-0c02-4efb-8f16-1ca2b59e32d6",
   "metadata": {},
   "source": [
    "### 標準のシステム辞書(ipadic)を使った場合"
   ]
  },
  {
   "cell_type": "code",
   "execution_count": 9,
   "id": "a0e0c545-9012-4e90-81c6-9ddc5e76d752",
   "metadata": {},
   "outputs": [
    {
     "name": "stdout",
     "output_type": "stream",
     "text": [
      "8\t名詞,数,*,*,*,*,*\n",
      "月\t名詞,一般,*,*,*,*,月,ツキ,ツキ\n",
      "3\t名詞,数,*,*,*,*,*\n",
      "日\t名詞,接尾,助数詞,*,*,*,日,ニチ,ニチ\n",
      "に\t助詞,格助詞,一般,*,*,*,に,ニ,ニ\n",
      "放送\t名詞,サ変接続,*,*,*,*,放送,ホウソウ,ホーソー\n",
      "さ\t動詞,自立,*,*,サ変・スル,未然レル接続,する,サ,サ\n",
      "れ\t動詞,接尾,*,*,一段,連用形,れる,レ,レ\n",
      "た\t助動詞,*,*,*,特殊・タ,基本形,た,タ,タ\n",
      "「\t記号,括弧開,*,*,*,*,「,「,「\n",
      "中居\t名詞,固有名詞,人名,姓,*,*,中居,ナカイ,ナカイ\n",
      "正広\t名詞,固有名詞,人名,名,*,*,正広,マサヒロ,マサヒロ\n",
      "の\t助詞,連体化,*,*,*,*,の,ノ,ノ\n",
      "金曜日\t名詞,副詞可能,*,*,*,*,金曜日,キンヨウビ,キンヨービ\n",
      "の\t助詞,連体化,*,*,*,*,の,ノ,ノ\n",
      "スマイル\t名詞,一般,*,*,*,*,スマイル,スマイル,スマイル\n",
      "たち\t名詞,接尾,一般,*,*,*,たち,タチ,タチ\n",
      "へ\t助詞,格助詞,一般,*,*,*,へ,ヘ,エ\n",
      "」(\t名詞,サ変接続,*,*,*,*,*\n",
      "TBS\t名詞,一般,*,*,*,*,*\n",
      "系\t名詞,接尾,一般,*,*,*,系,ケイ,ケイ\n",
      ")\t名詞,サ変接続,*,*,*,*,*\n",
      "で\t助詞,格助詞,一般,*,*,*,で,デ,デ\n",
      "、\t記号,読点,*,*,*,*,、,、,、\n",
      "ダイエット\t名詞,サ変接続,*,*,*,*,ダイエット,ダイエット,ダイエット\n",
      "方法\t名詞,一般,*,*,*,*,方法,ホウホウ,ホーホー\n",
      "を\t助詞,格助詞,一般,*,*,*,を,ヲ,ヲ\n",
      "紹介\t名詞,サ変接続,*,*,*,*,紹介,ショウカイ,ショーカイ\n",
      "。\t記号,句点,*,*,*,*,。,。,。\n",
      "EOS\n",
      "\n"
     ]
    }
   ],
   "source": [
    "print(tagger.parse(\"8月3日に放送された「中居正広の金曜日のスマイルたちへ」(TBS系)で、ダイエット方法を紹介。\"))"
   ]
  },
  {
   "cell_type": "markdown",
   "id": "24686a0c-ddcd-4fca-9a43-d022f4d238b4",
   "metadata": {},
   "source": [
    "### mecab-ipadic-NEologd をシステム辞書として使った場合"
   ]
  },
  {
   "cell_type": "code",
   "execution_count": 12,
   "id": "494acaee-a8ce-4729-84a8-12a33f3c75a8",
   "metadata": {},
   "outputs": [],
   "source": [
    "tagger = MeCab.Tagger('-d /usr/local/lib/mecab/dic/mecab-ipadic-neologd')"
   ]
  },
  {
   "cell_type": "code",
   "execution_count": 13,
   "id": "16da0192-ae24-4fde-a926-b759b9c77bf9",
   "metadata": {},
   "outputs": [
    {
     "name": "stdout",
     "output_type": "stream",
     "text": [
      "8月3日\t名詞,固有名詞,一般,*,*,*,8月3日,ハチガツミッカ,ハチガツミッカ\n",
      "に\t助詞,格助詞,一般,*,*,*,に,ニ,ニ\n",
      "放送\t名詞,サ変接続,*,*,*,*,放送,ホウソウ,ホーソー\n",
      "さ\t動詞,自立,*,*,サ変・スル,未然レル接続,する,サ,サ\n",
      "れ\t動詞,接尾,*,*,一段,連用形,れる,レ,レ\n",
      "た\t助動詞,*,*,*,特殊・タ,基本形,た,タ,タ\n",
      "「\t記号,括弧開,*,*,*,*,「,「,「\n",
      "中居正広の金曜日のスマイルたちへ\t名詞,固有名詞,一般,*,*,*,中居正広の金曜日のスマイルたちへ,ナカイマサヒロノキンヨウビノスマイルタチヘ,ナカイマサヒロノキンヨービノスマイルタチヘ\n",
      "」(\t記号,一般,*,*,*,*,*\n",
      "TBS\t名詞,固有名詞,一般,*,*,*,TBS,ティービーエス,ティービーエス\n",
      "系\t名詞,接尾,一般,*,*,*,系,ケイ,ケイ\n",
      ")\t記号,一般,*,*,*,*,*\n",
      "で\t助動詞,*,*,*,特殊・ダ,連用形,だ,デ,デ\n",
      "、\t記号,読点,*,*,*,*,、,、,、\n",
      "ダイエット方法\t名詞,固有名詞,一般,*,*,*,ダイエット方法,ダイエットホウホウ,ダイエットホウホー\n",
      "を\t助詞,格助詞,一般,*,*,*,を,ヲ,ヲ\n",
      "紹介\t名詞,サ変接続,*,*,*,*,紹介,ショウカイ,ショーカイ\n",
      "。\t記号,句点,*,*,*,*,。,。,。\n",
      "EOS\n",
      "\n"
     ]
    }
   ],
   "source": [
    "print(tagger.parse(\"8月3日に放送された「中居正広の金曜日のスマイルたちへ」(TBS系)で、ダイエット方法を紹介。\"))"
   ]
  },
  {
   "cell_type": "code",
   "execution_count": 14,
   "id": "5131ca37-a875-461a-9d51-45b17cfdb5c3",
   "metadata": {},
   "outputs": [],
   "source": [
    "tagger = MeCab.Tagger('-Owakati -d /usr/local/lib/mecab/dic/mecab-ipadic-neologd')"
   ]
  },
  {
   "cell_type": "code",
   "execution_count": 16,
   "id": "57b81418-2c6e-48cf-abdf-a0934fd16e35",
   "metadata": {},
   "outputs": [
    {
     "data": {
      "text/plain": [
       "['8月3日',\n",
       " 'に',\n",
       " '放送',\n",
       " 'さ',\n",
       " 'れ',\n",
       " 'た',\n",
       " '「',\n",
       " '中居正広の金曜日のスマイルたちへ',\n",
       " '」(',\n",
       " 'TBS',\n",
       " '系',\n",
       " ')',\n",
       " 'で',\n",
       " '、',\n",
       " 'ダイエット方法',\n",
       " 'を',\n",
       " '紹介',\n",
       " '。']"
      ]
     },
     "execution_count": 16,
     "metadata": {},
     "output_type": "execute_result"
    }
   ],
   "source": [
    "tagger.parse(\"8月3日に放送された「中居正広の金曜日のスマイルたちへ」(TBS系)で、ダイエット方法を紹介。\").split()"
   ]
  },
  {
   "cell_type": "code",
   "execution_count": null,
   "id": "08c7bfd9-157e-4548-b80b-e65f8dd55cfd",
   "metadata": {},
   "outputs": [],
   "source": []
  }
 ],
 "metadata": {
  "kernelspec": {
   "display_name": "Python 3",
   "language": "python",
   "name": "python3"
  },
  "language_info": {
   "codemirror_mode": {
    "name": "ipython",
    "version": 3
   },
   "file_extension": ".py",
   "mimetype": "text/x-python",
   "name": "python",
   "nbconvert_exporter": "python",
   "pygments_lexer": "ipython3",
   "version": "3.8.5"
  }
 },
 "nbformat": 4,
 "nbformat_minor": 5
}
