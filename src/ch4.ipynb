{
 "cells": [
  {
   "cell_type": "code",
   "execution_count": 1,
   "id": "3ad34af6-923e-41ff-8e02-68a3ae342119",
   "metadata": {},
   "outputs": [],
   "source": [
    "import MeCab"
   ]
  },
  {
   "cell_type": "code",
   "execution_count": 2,
   "id": "30c53c91-4a44-4bf3-90b6-b6fa064f6e54",
   "metadata": {},
   "outputs": [],
   "source": [
    "wakati = MeCab.Tagger(\"-Owakati\")"
   ]
  },
  {
   "cell_type": "code",
   "execution_count": 3,
   "id": "f3e5cff6-1293-411c-9f07-39b788aa9c2b",
   "metadata": {},
   "outputs": [
    {
     "data": {
      "text/plain": [
       "['友達', 'と', '国立', '新', '美術館', 'に', '行っ', 'た']"
      ]
     },
     "execution_count": 3,
     "metadata": {},
     "output_type": "execute_result"
    }
   ],
   "source": [
    "wakati.parse(\"友達と国立新美術館に行った\").split()"
   ]
  },
  {
   "cell_type": "code",
   "execution_count": 4,
   "id": "948a8c43-f30d-44f2-9909-b7b638cbe702",
   "metadata": {},
   "outputs": [],
   "source": [
    "wakati = MeCab.Tagger(\"-Ochasen\")"
   ]
  },
  {
   "cell_type": "code",
   "execution_count": 5,
   "id": "d69a2e69-e65e-48e0-8022-07f4a8433cef",
   "metadata": {},
   "outputs": [
    {
     "data": {
      "text/plain": [
       "['友達',\n",
       " 'トモダチ',\n",
       " '友達',\n",
       " '名詞-一般',\n",
       " 'と',\n",
       " 'ト',\n",
       " 'と',\n",
       " '助詞-並立助詞',\n",
       " '国立',\n",
       " 'コクリツ',\n",
       " '国立',\n",
       " '名詞-一般',\n",
       " '新',\n",
       " 'シン',\n",
       " '新',\n",
       " '接頭詞-名詞接続',\n",
       " '美術館',\n",
       " 'ビジュツカン',\n",
       " '美術館',\n",
       " '名詞-一般',\n",
       " 'に',\n",
       " 'ニ',\n",
       " 'に',\n",
       " '助詞-格助詞-一般',\n",
       " '行っ',\n",
       " 'イッ',\n",
       " '行く',\n",
       " '動詞-自立',\n",
       " '五段・カ行促音便',\n",
       " '連用タ接続',\n",
       " 'た',\n",
       " 'タ',\n",
       " 'た',\n",
       " '助動詞',\n",
       " '特殊・タ',\n",
       " '基本形',\n",
       " 'EOS']"
      ]
     },
     "execution_count": 5,
     "metadata": {},
     "output_type": "execute_result"
    }
   ],
   "source": [
    "wakati.parse(\"友達と国立新美術館に行った\").split()"
   ]
  },
  {
   "cell_type": "code",
   "execution_count": 6,
   "id": "088759d3-d6dd-49c9-bae5-a7a24c48a127",
   "metadata": {},
   "outputs": [],
   "source": [
    "tagger = MeCab.Tagger()"
   ]
  },
  {
   "cell_type": "code",
   "execution_count": 7,
   "id": "3941904d-4788-423d-a147-8a27029fc7ae",
   "metadata": {},
   "outputs": [
    {
     "name": "stdout",
     "output_type": "stream",
     "text": [
      "友達\t名詞,一般,*,*,*,*,友達,トモダチ,トモダチ\n",
      "と\t助詞,並立助詞,*,*,*,*,と,ト,ト\n",
      "国立\t名詞,一般,*,*,*,*,国立,コクリツ,コクリツ\n",
      "新\t接頭詞,名詞接続,*,*,*,*,新,シン,シン\n",
      "美術館\t名詞,一般,*,*,*,*,美術館,ビジュツカン,ビジュツカン\n",
      "に\t助詞,格助詞,一般,*,*,*,に,ニ,ニ\n",
      "行っ\t動詞,自立,*,*,五段・カ行促音便,連用タ接続,行く,イッ,イッ\n",
      "た\t助動詞,*,*,*,特殊・タ,基本形,た,タ,タ\n",
      "EOS\n",
      "\n"
     ]
    }
   ],
   "source": [
    "print(tagger.parse(\"友達と国立新美術館に行った\"))"
   ]
  },
  {
   "cell_type": "code",
   "execution_count": null,
   "id": "cd10f990-1406-4e88-9354-8f1d381891cb",
   "metadata": {},
   "outputs": [],
   "source": []
  }
 ],
 "metadata": {
  "kernelspec": {
   "display_name": "Python 3",
   "language": "python",
   "name": "python3"
  },
  "language_info": {
   "codemirror_mode": {
    "name": "ipython",
    "version": 3
   },
   "file_extension": ".py",
   "mimetype": "text/x-python",
   "name": "python",
   "nbconvert_exporter": "python",
   "pygments_lexer": "ipython3",
   "version": "3.8.5"
  }
 },
 "nbformat": 4,
 "nbformat_minor": 5
}
