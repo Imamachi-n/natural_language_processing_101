{
 "cells": [
  {
   "cell_type": "code",
   "execution_count": 1,
   "id": "3ad34af6-923e-41ff-8e02-68a3ae342119",
   "metadata": {},
   "outputs": [],
   "source": [
    "import MeCab"
   ]
  },
  {
   "cell_type": "code",
   "execution_count": 2,
   "id": "30c53c91-4a44-4bf3-90b6-b6fa064f6e54",
   "metadata": {},
   "outputs": [],
   "source": [
    "wakati = MeCab.Tagger(\"-Owakati\")"
   ]
  },
  {
   "cell_type": "code",
   "execution_count": 3,
   "id": "f3e5cff6-1293-411c-9f07-39b788aa9c2b",
   "metadata": {},
   "outputs": [
    {
     "data": {
      "text/plain": [
       "['python', 'が', '大好き', 'です']"
      ]
     },
     "execution_count": 3,
     "metadata": {},
     "output_type": "execute_result"
    }
   ],
   "source": [
    "wakati.parse(\"pythonが大好きです\").split()"
   ]
  },
  {
   "cell_type": "code",
   "execution_count": 4,
   "id": "088759d3-d6dd-49c9-bae5-a7a24c48a127",
   "metadata": {},
   "outputs": [],
   "source": [
    "tagger = MeCab.Tagger()"
   ]
  },
  {
   "cell_type": "code",
   "execution_count": 5,
   "id": "3941904d-4788-423d-a147-8a27029fc7ae",
   "metadata": {},
   "outputs": [
    {
     "name": "stdout",
     "output_type": "stream",
     "text": [
      "python\t名詞,固有名詞,組織,*,*,*,*\n",
      "が\t助詞,格助詞,一般,*,*,*,が,ガ,ガ\n",
      "大好き\t名詞,形容動詞語幹,*,*,*,*,大好き,ダイスキ,ダイスキ\n",
      "です\t助動詞,*,*,*,特殊・デス,基本形,です,デス,デス\n",
      "EOS\n",
      "\n"
     ]
    }
   ],
   "source": [
    "print(tagger.parse(\"pythonが大好きです\"))"
   ]
  },
  {
   "cell_type": "code",
   "execution_count": null,
   "id": "cd10f990-1406-4e88-9354-8f1d381891cb",
   "metadata": {},
   "outputs": [],
   "source": []
  }
 ],
 "metadata": {
  "kernelspec": {
   "display_name": "Python 3",
   "language": "python",
   "name": "python3"
  },
  "language_info": {
   "codemirror_mode": {
    "name": "ipython",
    "version": 3
   },
   "file_extension": ".py",
   "mimetype": "text/x-python",
   "name": "python",
   "nbconvert_exporter": "python",
   "pygments_lexer": "ipython3",
   "version": "3.8.5"
  }
 },
 "nbformat": 4,
 "nbformat_minor": 5
}
